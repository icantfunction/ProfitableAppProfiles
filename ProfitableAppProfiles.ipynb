{
 "cells": [
  {
   "cell_type": "markdown",
   "id": "6bf36e54-4a63-4f17-91dc-4561624e5c31",
   "metadata": {},
   "source": [
    "## Profitable App Profiles for the App Store and Google Play Markets"
   ]
  },
  {
   "cell_type": "markdown",
   "id": "49f3733d-a4a4-4e3b-b343-c29630462e16",
   "metadata": {},
   "source": [
    "Our goal is findings mobile app profiles that are profitable for the App Store and Google Play markets. We're working as data analysts for a company that builds Android and iOS mobile apps, and our job is to help our team of developers to make data-driven decisions with respect to the kind of apps they build.\n",
    "\n",
    "At our company, we only build apps that are free to download and install, and our main source of revenue consists of in-app ads. This means that our revenue for any given app is mostly influenced by the number of users that use our app. Our goal for this project is to analyze data to help our developers understand what kinds of apps are likely to attract more users.\n",
    "\n"
   ]
  },
  {
   "cell_type": "code",
   "execution_count": 18,
   "id": "49d1c1ba-efc0-4285-82b8-9f0bc47371e6",
   "metadata": {},
   "outputs": [],
   "source": [
    "opened_AppleFile = open('AppleStore.csv')\n",
    "from csv import reader\n",
    "read_AppleFile = reader(opened_AppleFile)\n",
    "large_AppleFile = list(read_AppleFile)\n",
    "Adata_set = large_AppleFile[1:] \n",
    "Aheader = large_AppleFile[0] \n",
    "\n",
    "# Adata_set - is AppleStore.csv data rows without headers\n",
    "# Aheader - is AppleStore.csv header row \n",
    "\n",
    "opened_PlayFile = open('googleplaystore.csv')\n",
    "from csv import reader\n",
    "read_PlayFile = reader(opened_PlayFile)\n",
    "large_PlayFile = list(read_PlayFile)\n",
    "Gdata_set = large_PlayFile[1:]\n",
    "Gheader = large_PlayFile[0]\n",
    "\n",
    "# Gdata_set - is googleplaystore.csv data rows w/o headers\n",
    "# Gheader - is googleplaystore.csv header row"
   ]
  },
  {
   "cell_type": "code",
   "execution_count": 19,
   "id": "474c95cc-cac2-42aa-8f91-2644d67f0efb",
   "metadata": {},
   "outputs": [],
   "source": [
    "def explore_data(dataset, start, end, rows_and_columns=False):\n",
    "    dataset_slice = dataset[start:end]    \n",
    "    for row in dataset_slice:\n",
    "        print(row)\n",
    "        print('\\n') # adds a new (empty) line after each row\n",
    "\n",
    "    if rows_and_columns:\n",
    "        print('Number of rows:', len(dataset))\n",
    "        print('Number of columns:', len(dataset[0]))"
   ]
  },
  {
   "cell_type": "code",
   "execution_count": 20,
   "id": "6563f6a8-6ee3-4dd8-925a-7a625d22fc1f",
   "metadata": {},
   "outputs": [
    {
     "name": "stdout",
     "output_type": "stream",
     "text": [
      "['1', '281656475', 'PAC-MAN Premium', '100788224', 'USD', '3.99', '21292', '26', '4', '4.5', '6.3.5', '4+', 'Games', '38', '5', '10', '1']\n",
      "\n",
      "\n",
      "['2', '281796108', 'Evernote - stay organized', '158578688', 'USD', '0', '161065', '26', '4', '3.5', '8.2.2', '4+', 'Productivity', '37', '5', '23', '1']\n",
      "\n",
      "\n",
      "['3', '281940292', 'WeatherBug - Local Weather, Radar, Maps, Alerts', '100524032', 'USD', '0', '188583', '2822', '3.5', '4.5', '5.0.0', '4+', 'Weather', '37', '5', '3', '1']\n",
      "\n",
      "\n"
     ]
    }
   ],
   "source": [
    "explore_data(Adata_set, 0, 3) ## - Exploring first 3 rows of AppleStore dataset using our newly made function"
   ]
  },
  {
   "cell_type": "code",
   "execution_count": 21,
   "id": "ef24b54b-4176-4413-bbfa-8c78032a72e2",
   "metadata": {},
   "outputs": [
    {
     "name": "stdout",
     "output_type": "stream",
     "text": [
      "['Photo Editor & Candy Camera & Grid & ScrapBook', 'ART_AND_DESIGN', '4.1', '159', '19M', '10,000+', 'Free', '0', 'Everyone', 'Art & Design', 'January 7, 2018', '1.0.0', '4.0.3 and up']\n",
      "\n",
      "\n",
      "['Coloring book moana', 'ART_AND_DESIGN', '3.9', '967', '14M', '500,000+', 'Free', '0', 'Everyone', 'Art & Design;Pretend Play', 'January 15, 2018', '2.0.0', '4.0.3 and up']\n",
      "\n",
      "\n",
      "['U Launcher Lite – FREE Live Cool Themes, Hide Apps', 'ART_AND_DESIGN', '4.7', '87510', '8.7M', '5,000,000+', 'Free', '0', 'Everyone', 'Art & Design', 'August 1, 2018', '1.2.4', '4.0.3 and up']\n",
      "\n",
      "\n"
     ]
    }
   ],
   "source": [
    "explore_data(Gdata_set, 0,3) ## - Exploring first 3 rows of googleplaystore dataset using our newly made function"
   ]
  },
  {
   "cell_type": "code",
   "execution_count": 22,
   "id": "e09cf3aa-b167-4989-8152-b2b4e7b325f8",
   "metadata": {},
   "outputs": [
    {
     "name": "stdout",
     "output_type": "stream",
     "text": [
      "['App', 'Category', 'Rating', 'Reviews', 'Size', 'Installs', 'Type', 'Price', 'Content Rating', 'Genres', 'Last Updated', 'Current Ver', 'Android Ver']\n",
      " \n",
      "['', 'id', 'track_name', 'size_bytes', 'currency', 'price', 'rating_count_tot', 'rating_count_ver', 'user_rating', 'user_rating_ver', 'ver', 'cont_rating', 'prime_genre', 'sup_devices.num', 'ipadSc_urls.num', 'lang.num', 'vpp_lic']\n"
     ]
    }
   ],
   "source": [
    "print(Gheader)\n",
    "print(' ')\n",
    "print(Aheader)"
   ]
  },
  {
   "cell_type": "markdown",
   "id": "a95ea0cf-d4b1-47a3-ae04-63ed6a209a6c",
   "metadata": {},
   "source": [
    "***Some relevant categories that will help us with our data analysis is 'App', 'Category', 'Rating', 'Reviews', 'Installs, 'Price', 'Genres', and 'Type' as far as googleplaystore.csv, and for the AppleStore.csv the most relevant categories are 'track_name', 'price', 'rating_count_tot', 'prime_genre', 'user_rating_ver', and 'user_rating'.***"
   ]
  },
  {
   "cell_type": "code",
   "execution_count": 23,
   "id": "bdfa72ce-800d-4b41-ab06-a2941e75d95f",
   "metadata": {},
   "outputs": [
    {
     "name": "stdout",
     "output_type": "stream",
     "text": [
      "['Photo Editor & Candy Camera & Grid & ScrapBook', 'ART_AND_DESIGN', '4.1', '159', '19M', '10,000+', 'Free', '0', 'Everyone', 'Art & Design', 'January 7, 2018', '1.0.0', '4.0.3 and up'] \n",
      "\n",
      "13\n",
      "['Life Made WI-Fi Touchscreen Photo Frame', '1.9', '19', '3.0M', '1,000+', 'Free', '0', 'Everyone', '', 'February 11, 2018', '1.0.19', '4.0 and up']\n",
      "\n",
      "\n",
      "Index postion is: 10472\n"
     ]
    }
   ],
   "source": [
    "print(Gdata_set[0],'\\n')\n",
    "\n",
    "print(len(Gheader))\n",
    "\n",
    "for row in Gdata_set[1:]:\n",
    "    if len(row) != len(Gheader):\n",
    "        print(row)\n",
    "        print(\"\\n\")\n",
    "        print(\"Index postion is:\", Gdata_set.index(row))"
   ]
  },
  {
   "cell_type": "code",
   "execution_count": 24,
   "id": "89981904-c17a-4f89-9183-5bf6726c6792",
   "metadata": {},
   "outputs": [],
   "source": [
    "del Gdata_set[10472] # Deleting the row that is missing a category "
   ]
  },
  {
   "cell_type": "markdown",
   "id": "07585917-df50-48a3-9d17-2921f5ec849c",
   "metadata": {},
   "source": [
    "## We are starting to clean the Data Set now"
   ]
  },
  {
   "cell_type": "code",
   "execution_count": 25,
   "id": "d2aff0ab-1784-484b-b570-0d56571d5b54",
   "metadata": {},
   "outputs": [
    {
     "name": "stdout",
     "output_type": "stream",
     "text": [
      "Number of Unique Apps 9659\n",
      " \n",
      "Some Duplicate Apps are ['Quick PDF Scanner + OCR FREE', 'Box', 'Google My Business']\n"
     ]
    }
   ],
   "source": [
    "duplicate_apps = []\n",
    "unique_apps = []\n",
    "\n",
    "for apps in Gdata_set:\n",
    "    name = apps[0]\n",
    "    if name in unique_apps:\n",
    "        duplicate_apps.append(name)\n",
    "    else:\n",
    "        unique_apps.append(name) \n",
    "    \n",
    "print('Number of Unique Apps', len(unique_apps))\n",
    "print(' ')\n",
    "print('Some Duplicate Apps are', duplicate_apps[:3]) "
   ]
  },
  {
   "cell_type": "code",
   "execution_count": 26,
   "id": "9c158fd5-41f8-4728-afab-7842e9df0bd3",
   "metadata": {},
   "outputs": [
    {
     "name": "stdout",
     "output_type": "stream",
     "text": [
      "['Box', 'BUSINESS', '4.2', '159872', 'Varies with device', '10,000,000+', 'Free', '0', 'Everyone', 'Business', 'July 31, 2018', 'Varies with device', 'Varies with device']\n",
      "['Box', 'BUSINESS', '4.2', '159872', 'Varies with device', '10,000,000+', 'Free', '0', 'Everyone', 'Business', 'July 31, 2018', 'Varies with device', 'Varies with device']\n",
      "['Box', 'BUSINESS', '4.2', '159872', 'Varies with device', '10,000,000+', 'Free', '0', 'Everyone', 'Business', 'July 31, 2018', 'Varies with device', 'Varies with device']\n"
     ]
    }
   ],
   "source": [
    "for apps in Gdata_set:\n",
    "    name = apps[0]\n",
    "    if name == 'Box': \n",
    "        print(apps) "
   ]
  },
  {
   "cell_type": "markdown",
   "id": "c18210e5-d756-482b-9e24-c19afd051f83",
   "metadata": {},
   "source": [
    "***We will not randomly delete this data, the most impotant part of the data is the ratings, therefore we will only keep the data rows with highest total of reviews, and delete the rest. For those who have the same amount of ratings, we will then only delete randomly.*** "
   ]
  },
  {
   "cell_type": "code",
   "execution_count": 29,
   "id": "2840f588-a51c-43af-8466-fec64ca23ef3",
   "metadata": {},
   "outputs": [
    {
     "name": "stdout",
     "output_type": "stream",
     "text": [
      "9659\n"
     ]
    }
   ],
   "source": [
    "reviews_max = {}\n",
    "\n",
    "for app in Gdata_set:\n",
    "    name = app[0]\n",
    "    n_reviews = float(app[3]) \n",
    "    \n",
    "    if name in reviews_max and reviews_max[name] < n_reviews:\n",
    "        reviews_max[name] = n_reviews\n",
    "        \n",
    "    elif name not in reviews_max: \n",
    "        reviews_max[name] = n_reviews\n",
    "        \n",
    "print(len(reviews_max)) # checking to make sure we successfully have the same amount of Unique Apps as our previous list \n",
    "        \n",
    "    "
   ]
  },
  {
   "cell_type": "code",
   "execution_count": 32,
   "id": "8622a4b6-3a31-4e7f-8058-ddc080f14abf",
   "metadata": {},
   "outputs": [
    {
     "name": "stdout",
     "output_type": "stream",
     "text": [
      "['Photo Editor & Candy Camera & Grid & ScrapBook', 'ART_AND_DESIGN', '4.1', '159', '19M', '10,000+', 'Free', '0', 'Everyone', 'Art & Design', 'January 7, 2018', '1.0.0', '4.0.3 and up']\n",
      "\n",
      "\n",
      "['U Launcher Lite – FREE Live Cool Themes, Hide Apps', 'ART_AND_DESIGN', '4.7', '87510', '8.7M', '5,000,000+', 'Free', '0', 'Everyone', 'Art & Design', 'August 1, 2018', '1.2.4', '4.0.3 and up']\n",
      "\n",
      "\n",
      "['Sketch - Draw & Paint', 'ART_AND_DESIGN', '4.5', '215644', '25M', '50,000,000+', 'Free', '0', 'Teen', 'Art & Design', 'June 8, 2018', 'Varies with device', '4.2 and up']\n",
      "\n",
      "\n"
     ]
    }
   ],
   "source": [
    "android_clean = [] # - will store our newly cleaned data set\n",
    "already_added = [] # - will only store in app names \n",
    "\n",
    "for app in Gdata_set:\n",
    "    name = app[0] \n",
    "    n_reviews = float(app[3]) \n",
    "    if n_reviews == reviews_max[name] and name not in already_added: \n",
    "        android_clean.append(app)\n",
    "        already_added.append(name)\n",
    "        \n",
    "explore_data(android_clean, 0, 3) # - MAKING SURE WE ADDED VALUES CORRECTLY\n"
   ]
  },
  {
   "cell_type": "markdown",
   "id": "cd15c9f3-e6c1-4411-93b3-ab1d3021a138",
   "metadata": {},
   "source": [
    "***Now that we are done with cleaning the data for duplicates, we will now clean the data for only English based apps since our developers will only be making english apps.*** "
   ]
  },
  {
   "cell_type": "code",
   "execution_count": 43,
   "id": "68e13035-69e9-45b3-97bf-639b9f1a3969",
   "metadata": {},
   "outputs": [
    {
     "data": {
      "text/plain": [
       "True"
      ]
     },
     "execution_count": 43,
     "metadata": {},
     "output_type": "execute_result"
    }
   ],
   "source": [
    "def english(doge):\n",
    "    string = doge\n",
    "    for character in string:\n",
    "        value = ord(character) \n",
    "        if value <= 127: \n",
    "            return True\n",
    "        else:\n",
    "            return False \n",
    "        \n",
    "english('Instagram')"
   ]
  },
  {
   "cell_type": "code",
   "execution_count": 44,
   "id": "d8e1fbbf-ae27-4567-9b60-3a3bd76d4854",
   "metadata": {},
   "outputs": [
    {
     "data": {
      "text/plain": [
       "False"
      ]
     },
     "execution_count": 44,
     "metadata": {},
     "output_type": "execute_result"
    }
   ],
   "source": [
    "english('爱奇艺PPS -《欢乐颂2》电视剧热播')"
   ]
  },
  {
   "cell_type": "code",
   "execution_count": 49,
   "id": "ec259cb0-9627-4472-8a31-704fb4f75e8b",
   "metadata": {},
   "outputs": [
    {
     "data": {
      "text/plain": [
       "True"
      ]
     },
     "execution_count": 49,
     "metadata": {},
     "output_type": "execute_result"
    }
   ],
   "source": [
    "english('Instachat 😜')"
   ]
  },
  {
   "cell_type": "code",
   "execution_count": 46,
   "id": "76d4a140-6dff-4494-a292-3ef1844025f0",
   "metadata": {},
   "outputs": [
    {
     "name": "stdout",
     "output_type": "stream",
     "text": [
      "False\n",
      "True\n"
     ]
    }
   ],
   "source": [
    "print(english('爱奇艺PPS -《欢乐颂2》电视剧热播'))\n",
    "print(english('Instagram')) "
   ]
  },
  {
   "cell_type": "markdown",
   "id": "9ee976cc-2815-48f7-9387-79236b05c606",
   "metadata": {},
   "source": [
    "***Now many of our English apps may have a symbol, so using this filter alone will kick out many useful pieces of data, so we will refine the function.*** "
   ]
  },
  {
   "cell_type": "code",
   "execution_count": 47,
   "id": "de1e5fda-770c-40d3-8666-65b9ed7313a0",
   "metadata": {},
   "outputs": [
    {
     "data": {
      "text/plain": [
       "True"
      ]
     },
     "execution_count": 47,
     "metadata": {},
     "output_type": "execute_result"
    }
   ],
   "source": [
    "def english(doge):\n",
    "    string = doge\n",
    "    no_ASCII = 0 \n",
    "    for character in string:\n",
    "        if ord(character) > 127:\n",
    "            no_ASCII += 1\n",
    "            \n",
    "    if no_ASCII > 3:\n",
    "        return False\n",
    "    \n",
    "    return True\n",
    "\n",
    "english('Instagram')"
   ]
  },
  {
   "cell_type": "code",
   "execution_count": 48,
   "id": "9c644900-c13f-409e-9488-ffd9e9abbff9",
   "metadata": {},
   "outputs": [
    {
     "name": "stdout",
     "output_type": "stream",
     "text": [
      "True\n"
     ]
    }
   ],
   "source": [
    "print(english('Instachat 😜'))"
   ]
  },
  {
   "cell_type": "code",
   "execution_count": 52,
   "id": "72e278a5-274f-40c4-9d6d-70089d1432f8",
   "metadata": {},
   "outputs": [
    {
     "data": {
      "text/plain": [
       "False"
      ]
     },
     "execution_count": 52,
     "metadata": {},
     "output_type": "execute_result"
    }
   ],
   "source": [
    "english('Docs To Go™™™™™™™™™™™ Free Office Suite')"
   ]
  },
  {
   "cell_type": "code",
   "execution_count": 53,
   "id": "2a47313b-9adb-4e3a-bb50-b58947b7376c",
   "metadata": {},
   "outputs": [
    {
     "data": {
      "text/plain": [
       "True"
      ]
     },
     "execution_count": 53,
     "metadata": {},
     "output_type": "execute_result"
    }
   ],
   "source": [
    "english('Docs To Go™ Free Office Suite')"
   ]
  },
  {
   "cell_type": "code",
   "execution_count": 59,
   "id": "ca0c80ca-d722-401a-bdf2-5e6be75803d9",
   "metadata": {},
   "outputs": [
    {
     "name": "stdout",
     "output_type": "stream",
     "text": [
      "['Photo Editor & Candy Camera & Grid & ScrapBook', 'ART_AND_DESIGN', '4.1', '159', '19M', '10,000+', 'Free', '0', 'Everyone', 'Art & Design', 'January 7, 2018', '1.0.0', '4.0.3 and up']\n",
      "\n",
      "\n",
      "['U Launcher Lite – FREE Live Cool Themes, Hide Apps', 'ART_AND_DESIGN', '4.7', '87510', '8.7M', '5,000,000+', 'Free', '0', 'Everyone', 'Art & Design', 'August 1, 2018', '1.2.4', '4.0.3 and up']\n",
      "\n",
      "\n",
      "['Sketch - Draw & Paint', 'ART_AND_DESIGN', '4.5', '215644', '25M', '50,000,000+', 'Free', '0', 'Teen', 'Art & Design', 'June 8, 2018', 'Varies with device', '4.2 and up']\n",
      "\n",
      "\n",
      "['1', '281656475', 'PAC-MAN Premium', '100788224', 'USD', '3.99', '21292', '26', '4', '4.5', '6.3.5', '4+', 'Games', '38', '5', '10', '1']\n",
      "\n",
      "\n",
      "['2', '281796108', 'Evernote - stay organized', '158578688', 'USD', '0', '161065', '26', '4', '3.5', '8.2.2', '4+', 'Productivity', '37', '5', '23', '1']\n",
      "\n",
      "\n",
      "['3', '281940292', 'WeatherBug - Local Weather, Radar, Maps, Alerts', '100524032', 'USD', '0', '188583', '2822', '3.5', '4.5', '5.0.0', '4+', 'Weather', '37', '5', '3', '1']\n",
      "\n",
      "\n"
     ]
    }
   ],
   "source": [
    "english_android_apps = []\n",
    "english_apple_apps = [] \n",
    "\n",
    "for app in android_clean:\n",
    "    name = app[0]\n",
    "    if_english = english(name)\n",
    "    if if_english == True:\n",
    "        english_android_apps.append(app)\n",
    "        \n",
    "for apps in Adata_set:\n",
    "    name = apps[3]\n",
    "    if_english = english(name)\n",
    "    if if_english == True:\n",
    "        english_apple_apps.append(apps) \n",
    "        \n",
    "explore_data(english_android_apps, 0, 3) \n",
    "explore_data(english_apple_apps, 0, 3) "
   ]
  },
  {
   "cell_type": "code",
   "execution_count": 58,
   "id": "34f63776-020d-4b75-87c9-69759ea058cf",
   "metadata": {},
   "outputs": [
    {
     "name": "stdout",
     "output_type": "stream",
     "text": [
      "9614\n",
      "7197\n"
     ]
    }
   ],
   "source": [
    "print(len(english_android_apps))\n",
    "print(len(english_apple_apps))"
   ]
  },
  {
   "cell_type": "markdown",
   "id": "a91352b4-c66a-4dad-abb1-3af05cfbd812",
   "metadata": {},
   "source": [
    "# How have we cleaned the Data Set?\n",
    "* We cleaned for English Data\n",
    "* We cleaned for Duplicate Data\n",
    "* We cleaned for Inaccurate Data"
   ]
  },
  {
   "cell_type": "markdown",
   "id": "24821050-882f-479b-8e4a-592bc7392b91",
   "metadata": {},
   "source": [
    "Now, we need some free apps..."
   ]
  },
  {
   "cell_type": "code",
   "execution_count": 61,
   "id": "337e8f83-5c25-48b0-af56-ba765e2e5faa",
   "metadata": {},
   "outputs": [
    {
     "name": "stdout",
     "output_type": "stream",
     "text": [
      "['App', 'Category', 'Rating', 'Reviews', 'Size', 'Installs', 'Type', 'Price', 'Content Rating', 'Genres', 'Last Updated', 'Current Ver', 'Android Ver']\n",
      " \n",
      "['', 'id', 'track_name', 'size_bytes', 'currency', 'price', 'rating_count_tot', 'rating_count_ver', 'user_rating', 'user_rating_ver', 'ver', 'cont_rating', 'prime_genre', 'sup_devices.num', 'ipadSc_urls.num', 'lang.num', 'vpp_lic']\n"
     ]
    }
   ],
   "source": [
    "print(Gheader)\n",
    "print(' ')\n",
    "print(Aheader)"
   ]
  },
  {
   "cell_type": "code",
   "execution_count": 81,
   "id": "e6eafd98-3325-4138-8ee5-b2d00230976a",
   "metadata": {},
   "outputs": [
    {
     "name": "stdout",
     "output_type": "stream",
     "text": [
      "['Photo Editor & Candy Camera & Grid & ScrapBook', 'ART_AND_DESIGN', '4.1', '159', '19M', '10,000+', 'Free', '0', 'Everyone', 'Art & Design', 'January 7, 2018', '1.0.0', '4.0.3 and up']\n",
      "\n",
      "\n",
      "['U Launcher Lite – FREE Live Cool Themes, Hide Apps', 'ART_AND_DESIGN', '4.7', '87510', '8.7M', '5,000,000+', 'Free', '0', 'Everyone', 'Art & Design', 'August 1, 2018', '1.2.4', '4.0.3 and up']\n",
      "\n",
      "\n",
      "['Sketch - Draw & Paint', 'ART_AND_DESIGN', '4.5', '215644', '25M', '50,000,000+', 'Free', '0', 'Teen', 'Art & Design', 'June 8, 2018', 'Varies with device', '4.2 and up']\n",
      "\n",
      "\n",
      "['Pixel Draw - Number Art Coloring Book', 'ART_AND_DESIGN', '4.3', '967', '2.8M', '100,000+', 'Free', '0', 'Everyone', 'Art & Design;Creativity', 'June 20, 2018', '1.1', '4.4 and up']\n",
      "\n",
      "\n",
      "['Paper flowers instructions', 'ART_AND_DESIGN', '4.4', '167', '5.6M', '50,000+', 'Free', '0', 'Everyone', 'Art & Design', 'March 26, 2017', '1.0', '2.3 and up']\n",
      "\n",
      "\n",
      " \n",
      "['2', '281796108', 'Evernote - stay organized', '158578688', 'USD', '0', '161065', '26', '4', '3.5', '8.2.2', '4+', 'Productivity', '37', '5', '23', '1']\n",
      "\n",
      "\n",
      "['3', '281940292', 'WeatherBug - Local Weather, Radar, Maps, Alerts', '100524032', 'USD', '0', '188583', '2822', '3.5', '4.5', '5.0.0', '4+', 'Weather', '37', '5', '3', '1']\n",
      "\n",
      "\n",
      "['4', '282614216', 'eBay: Best App to Buy, Sell, Save! Online Shopping', '128512000', 'USD', '0', '262241', '649', '4', '4.5', '5.10.0', '12+', 'Shopping', '37', '5', '9', '1']\n",
      "\n",
      "\n",
      "['5', '282935706', 'Bible', '92774400', 'USD', '0', '985920', '5320', '4.5', '5', '7.5.1', '4+', 'Reference', '37', '5', '45', '1']\n",
      "\n",
      "\n",
      "['7', '283646709', 'PayPal - Send and request money safely', '227795968', 'USD', '0', '119487', '879', '4', '4.5', '6.12.0', '4+', 'Finance', '37', '0', '19', '1']\n",
      "\n",
      "\n"
     ]
    }
   ],
   "source": [
    "free_play_apps = []\n",
    "free_ios_apps = []\n",
    "\n",
    "for rows in english_android_apps:\n",
    "    price = rows[7]\n",
    "    if price == '0':\n",
    "        free_play_apps.append(rows)\n",
    "        \n",
    "for inputs in english_apple_apps:\n",
    "    price = inputs[5]\n",
    "    if price == '0':\n",
    "        free_ios_apps.append(inputs) \n",
    "        \n",
    "explore_data(free_play_apps, 0, 5) \n",
    "print(' ')\n",
    "explore_data(free_ios_apps, 0, 5) \n",
    "    "
   ]
  },
  {
   "cell_type": "markdown",
   "id": "3ed44dc7-5fcd-49f3-bcc5-7bd334a540cf",
   "metadata": {
    "tags": []
   },
   "source": [
    "# Isolating our final usable data. \n",
    "We have 8864 apps on the Google play store, and we have 4056 apps on the App store. Now we need to go find the most common app types in both stores to find the most successful app that can work on both platforms using a frequency table. "
   ]
  },
  {
   "cell_type": "code",
   "execution_count": 83,
   "id": "85275c0d-8936-427d-98dd-f7d1983f49d1",
   "metadata": {},
   "outputs": [
    {
     "name": "stdout",
     "output_type": "stream",
     "text": [
      "8864\n",
      "4056\n"
     ]
    }
   ],
   "source": [
    "print(len(free_play_apps))\n",
    "print(len(free_ios_apps))"
   ]
  },
  {
   "cell_type": "markdown",
   "id": "c33e6377-5dd8-4374-bc8c-affdc1ffbd82",
   "metadata": {},
   "source": [
    "## Most Common Apps by Genre\n",
    "\n",
    "As we mentioned in the introduction, our aim is to determine the kinds of apps that are likely to attract more users because our revenue is highly influenced by the number of people using our apps.\n",
    "\n",
    "To minimize risks and overhead, our validation strategy for an app idea is comprised of three steps:\n",
    "\n",
    "1. Build a minimal Android version of the app, and add it to Google Play.\n",
    "2. If the app has a good response from users, we then develop it further.\n",
    "3. If the app is profitable after six months, we also build an iOS version of the app and add it to the App Store.\n",
    "\n",
    "Because our end goal is to add the app on both the App Store and Google Play, we need to find app profiles that are successful on both markets. For instance, a profile that might work well for both markets might be a productivity app that makes use of gamification.\n",
    "\n",
    "Let's begin the analysis by getting a sense of the most common genres for each market. For this, we'll build a frequency table for the prime_genre column of the App Store data set, and the Genres and Category columns of the Google Play data set.\n",
    "\n"
   ]
  },
  {
   "cell_type": "code",
   "execution_count": 85,
   "id": "2d70e4fe-9e94-42fc-8dd4-e5c6d281fcb2",
   "metadata": {},
   "outputs": [
    {
     "name": "stdout",
     "output_type": "stream",
     "text": [
      "['Productivity', 'Weather', 'Shopping', 'Reference', 'Finance', 'Music', 'Utilities', 'Travel', 'Social Networking', 'Sports', 'Health & Fitness', 'Games', 'Food & Drink', 'News', 'Book', 'Photo & Video', 'Entertainment', 'Business', 'Lifestyle', 'Education', 'Navigation', 'Medical', 'Catalogs']\n"
     ]
    }
   ],
   "source": [
    "unique_genres = [] \n",
    "all_entry = []\n",
    "\n",
    "for app in free_ios_apps:\n",
    "    prime_genre = app[-5] \n",
    "    if prime_genre not in unique_genres:\n",
    "        unique_genres.append(prime_genre)\n",
    "    else:\n",
    "        all_entry.append(prime_genre)\n",
    "        \n",
    "print(unique_genres) "
   ]
  },
  {
   "cell_type": "code",
   "execution_count": 87,
   "id": "a77f8ad8-3140-40a6-a4f1-10cff60d37ae",
   "metadata": {},
   "outputs": [
    {
     "name": "stdout",
     "output_type": "stream",
     "text": [
      "['Art & Design', 'Art & Design;Creativity', 'Auto & Vehicles', 'Beauty', 'Books & Reference', 'Business', 'Comics', 'Comics;Creativity', 'Communication', 'Dating', 'Education', 'Education;Creativity', 'Education;Education', 'Education;Pretend Play', 'Education;Brain Games', 'Entertainment', 'Entertainment;Brain Games', 'Entertainment;Creativity', 'Entertainment;Music & Video', 'Events', 'Finance', 'Food & Drink', 'Health & Fitness', 'House & Home', 'Libraries & Demo', 'Lifestyle', 'Lifestyle;Pretend Play', 'Card', 'Arcade', 'Puzzle', 'Racing', 'Sports', 'Casual', 'Simulation', 'Adventure', 'Trivia', 'Action', 'Word', 'Role Playing', 'Strategy', 'Board', 'Music', 'Action;Action & Adventure', 'Casual;Brain Games', 'Educational;Creativity', 'Puzzle;Brain Games', 'Educational;Education', 'Casual;Pretend Play', 'Educational;Brain Games', 'Art & Design;Pretend Play', 'Educational;Pretend Play', 'Entertainment;Education', 'Casual;Education', 'Casual;Creativity', 'Casual;Action & Adventure', 'Music;Music & Video', 'Arcade;Pretend Play', 'Adventure;Action & Adventure', 'Role Playing;Action & Adventure', 'Simulation;Pretend Play', 'Puzzle;Creativity', 'Simulation;Action & Adventure', 'Racing;Action & Adventure', 'Sports;Action & Adventure', 'Educational;Action & Adventure', 'Arcade;Action & Adventure', 'Entertainment;Action & Adventure', 'Art & Design;Action & Adventure', 'Puzzle;Action & Adventure', 'Education;Action & Adventure', 'Strategy;Action & Adventure', 'Music & Audio;Music & Video', 'Health & Fitness;Education', 'Board;Action & Adventure', 'Board;Brain Games', 'Casual;Music & Video', 'Education;Music & Video', 'Role Playing;Pretend Play', 'Entertainment;Pretend Play', 'Medical', 'Social', 'Shopping', 'Photography', 'Travel & Local', 'Travel & Local;Action & Adventure', 'Tools', 'Tools;Education', 'Personalization', 'Productivity', 'Parenting', 'Parenting;Music & Video', 'Parenting;Education', 'Parenting;Brain Games', 'Weather', 'Video Players & Editors', 'Video Players & Editors;Music & Video', 'Video Players & Editors;Creativity', 'News & Magazines', 'Maps & Navigation', 'Health & Fitness;Action & Adventure', 'Educational', 'Casino', 'Trivia;Education', 'Lifestyle;Education', 'Card;Action & Adventure', 'Books & Reference;Education', 'Simulation;Education', 'Puzzle;Education', 'Adventure;Education', 'Role Playing;Brain Games', 'Strategy;Education', 'Racing;Pretend Play', 'Communication;Creativity', 'Strategy;Creativity']\n"
     ]
    }
   ],
   "source": [
    "unique_pgenres = [] \n",
    "all_pentry = []\n",
    "\n",
    "for app in free_play_apps:\n",
    "    Genres = app[-4] \n",
    "    if Genres not in unique_pgenres:\n",
    "        unique_pgenres.append(Genres)\n",
    "    else:\n",
    "        all_pentry.append(Genres)\n",
    "        \n",
    "print(unique_pgenres) "
   ]
  },
  {
   "cell_type": "markdown",
   "id": "65f74b0e-04a6-4f0b-b285-a1bad5269cad",
   "metadata": {},
   "source": [
    "So we have now the individual genres, my previous strategy was to type them all in using the `elif` strategy but that would be largely inefficient to run, and to write, so we will create a function to take a part of the data and create a frequency table. "
   ]
  },
  {
   "cell_type": "code",
   "execution_count": 107,
   "id": "087da649-0fef-4696-b02b-25e40cf9333b",
   "metadata": {
    "tags": []
   },
   "outputs": [
    {
     "name": "stdout",
     "output_type": "stream",
     "text": [
      "{'37': 48.717948717948715, '38': 29.610453648915186, '43': 1.9723865877712032, '12': 0.02465483234714004, '47': 0.04930966469428008, '24': 2.366863905325444, '40': 15.631163708086785, '26': 0.17258382642998027, '39': 0.22189349112426035, '25': 0.616370808678501, '23': 0.02465483234714004, '36': 0.04930966469428008, '11': 0.04930966469428008, '35': 0.34516765285996054, '15': 0.04930966469428008, '16': 0.04930966469428008, '9': 0.02465483234714004, '13': 0.02465483234714004}\n"
     ]
    }
   ],
   "source": [
    "def freq_table(dataset, index): \n",
    "    list_index = {}\n",
    "    total = 0\n",
    "    for row in dataset: \n",
    "        total += 1\n",
    "        category = row[index] \n",
    "        if category in list_index:\n",
    "            list_index[category] += 1\n",
    "        else:\n",
    "            list_index[category] = 1\n",
    "            \n",
    "        table_percentages = {}\n",
    "    for key in list_index:\n",
    "        percentage = (list_index[key] / total) * 100\n",
    "        table_percentages[key] = percentage \n",
    "    \n",
    "    return table_percentages\n",
    "       \n",
    "print(freq_table(free_ios_apps, -4)) # - Testing the new function, freq_table to make sure that it does accurately create the table. "
   ]
  },
  {
   "cell_type": "markdown",
   "id": "94fafc45-dfe0-4eb0-b77c-037fee0d85dd",
   "metadata": {},
   "source": [
    "## Creating Frequency Tables"
   ]
  },
  {
   "cell_type": "code",
   "execution_count": 108,
   "id": "8661e6e7-6058-4189-8b7d-a9b3c703e8d7",
   "metadata": {
    "collapsed": true,
    "jupyter": {
     "outputs_hidden": true
    },
    "tags": []
   },
   "outputs": [
    {
     "name": "stdout",
     "output_type": "stream",
     "text": [
      "Games : 55.64595660749507\n",
      "Entertainment : 8.234714003944774\n",
      "Photo & Video : 4.117357001972387\n",
      "Social Networking : 3.5256410256410255\n",
      "Education : 3.2544378698224854\n",
      "Shopping : 2.983234714003945\n",
      "Utilities : 2.687376725838264\n",
      "Lifestyle : 2.3175542406311638\n",
      "Finance : 2.0710059171597637\n",
      "Sports : 1.947731755424063\n",
      "Health & Fitness : 1.8737672583826428\n",
      "Music : 1.6518737672583828\n",
      "Book : 1.6272189349112427\n",
      "Productivity : 1.5285996055226825\n",
      "News : 1.4299802761341223\n",
      "Travel : 1.3806706114398422\n",
      "Food & Drink : 1.0601577909270217\n",
      "Weather : 0.7642998027613412\n",
      "Reference : 0.4930966469428008\n",
      "Navigation : 0.4930966469428008\n",
      "Business : 0.4930966469428008\n",
      "Catalogs : 0.22189349112426035\n",
      "Medical : 0.19723865877712032\n"
     ]
    }
   ],
   "source": [
    "def display_table(dataset, index):\n",
    "    table = freq_table(dataset, index)\n",
    "    table_display = []\n",
    "    for key in table:\n",
    "        key_val_as_tuple = (table[key], key)\n",
    "        table_display.append(key_val_as_tuple)\n",
    "\n",
    "    table_sorted = sorted(table_display, reverse = True)\n",
    "    for entry in table_sorted:\n",
    "        print(entry[1], ':', entry[0])\n",
    "        \n",
    "display_table(free_ios_apps, -5) # - prime_genres on Apple App Store"
   ]
  },
  {
   "cell_type": "markdown",
   "id": "971393b3-607d-4d29-b6d0-f89cb47c5867",
   "metadata": {},
   "source": [
    "For `prime_genre` you can see that the overwhelming favorite at 55% is the Games. We see that following the Games genre, we have Entertainment and then Photo & Video with 8% and 4% respectively. Social Netwroking and Education combine for another about 7%. \n",
    "\n",
    "We can see that about 70% of the English Apple App Store have apps that are built mainly for having fun and entertainment value, while more practical and functional apps are rare. The most popular apps doesn't mean they are the most *used* apps, so later we will look into that metric as well.  "
   ]
  },
  {
   "cell_type": "code",
   "execution_count": 109,
   "id": "fe5a26ad-79cf-4059-a8de-40a7b4cd2d32",
   "metadata": {
    "collapsed": true,
    "jupyter": {
     "outputs_hidden": true
    },
    "tags": []
   },
   "outputs": [
    {
     "name": "stdout",
     "output_type": "stream",
     "text": [
      "Tools : 8.449909747292418\n",
      "Entertainment : 6.069494584837545\n",
      "Education : 5.347472924187725\n",
      "Business : 4.591606498194946\n",
      "Productivity : 3.892148014440433\n",
      "Lifestyle : 3.892148014440433\n",
      "Finance : 3.7003610108303246\n",
      "Medical : 3.531137184115524\n",
      "Sports : 3.463447653429603\n",
      "Personalization : 3.3167870036101084\n",
      "Communication : 3.2378158844765346\n",
      "Action : 3.1024368231046933\n",
      "Health & Fitness : 3.0798736462093865\n",
      "Photography : 2.944494584837545\n",
      "News & Magazines : 2.7978339350180503\n",
      "Social : 2.6624548736462095\n",
      "Travel & Local : 2.3240072202166067\n",
      "Shopping : 2.2450361010830324\n",
      "Books & Reference : 2.1435018050541514\n",
      "Simulation : 2.0419675090252705\n",
      "Dating : 1.861462093862816\n",
      "Arcade : 1.8501805054151623\n",
      "Video Players & Editors : 1.7712093862815883\n",
      "Casual : 1.7599277978339352\n",
      "Maps & Navigation : 1.3989169675090252\n",
      "Food & Drink : 1.2409747292418771\n",
      "Puzzle : 1.128158844765343\n",
      "Racing : 0.9927797833935018\n",
      "Role Playing : 0.9363718411552346\n",
      "Libraries & Demo : 0.9363718411552346\n",
      "Auto & Vehicles : 0.9250902527075812\n",
      "Strategy : 0.9138086642599278\n",
      "House & Home : 0.8235559566787004\n",
      "Weather : 0.8009927797833934\n",
      "Events : 0.7107400722021661\n",
      "Adventure : 0.6768953068592057\n",
      "Comics : 0.6092057761732852\n",
      "Beauty : 0.5979241877256317\n",
      "Art & Design : 0.5979241877256317\n",
      "Parenting : 0.4963898916967509\n",
      "Card : 0.45126353790613716\n",
      "Casino : 0.42870036101083037\n",
      "Trivia : 0.41741877256317694\n",
      "Educational;Education : 0.39485559566787\n",
      "Board : 0.3835740072202166\n",
      "Educational : 0.3722924187725632\n",
      "Education;Education : 0.33844765342960287\n",
      "Word : 0.2594765342960289\n",
      "Casual;Pretend Play : 0.236913357400722\n",
      "Music : 0.2030685920577617\n",
      "Racing;Action & Adventure : 0.16922382671480143\n",
      "Puzzle;Brain Games : 0.16922382671480143\n",
      "Entertainment;Music & Video : 0.16922382671480143\n",
      "Casual;Brain Games : 0.13537906137184114\n",
      "Casual;Action & Adventure : 0.13537906137184114\n",
      "Arcade;Action & Adventure : 0.12409747292418773\n",
      "Action;Action & Adventure : 0.10153429602888085\n",
      "Educational;Pretend Play : 0.09025270758122744\n",
      "Simulation;Action & Adventure : 0.078971119133574\n",
      "Parenting;Education : 0.078971119133574\n",
      "Entertainment;Brain Games : 0.078971119133574\n",
      "Board;Brain Games : 0.078971119133574\n",
      "Parenting;Music & Video : 0.06768953068592057\n",
      "Educational;Brain Games : 0.06768953068592057\n",
      "Casual;Creativity : 0.06768953068592057\n",
      "Art & Design;Creativity : 0.06768953068592057\n",
      "Education;Pretend Play : 0.056407942238267145\n",
      "Role Playing;Pretend Play : 0.04512635379061372\n",
      "Education;Creativity : 0.04512635379061372\n",
      "Role Playing;Action & Adventure : 0.033844765342960284\n",
      "Puzzle;Action & Adventure : 0.033844765342960284\n",
      "Entertainment;Creativity : 0.033844765342960284\n",
      "Entertainment;Action & Adventure : 0.033844765342960284\n",
      "Educational;Creativity : 0.033844765342960284\n",
      "Educational;Action & Adventure : 0.033844765342960284\n",
      "Education;Music & Video : 0.033844765342960284\n",
      "Education;Brain Games : 0.033844765342960284\n",
      "Education;Action & Adventure : 0.033844765342960284\n",
      "Adventure;Action & Adventure : 0.033844765342960284\n",
      "Video Players & Editors;Music & Video : 0.02256317689530686\n",
      "Sports;Action & Adventure : 0.02256317689530686\n",
      "Simulation;Pretend Play : 0.02256317689530686\n",
      "Puzzle;Creativity : 0.02256317689530686\n",
      "Music;Music & Video : 0.02256317689530686\n",
      "Entertainment;Pretend Play : 0.02256317689530686\n",
      "Casual;Education : 0.02256317689530686\n",
      "Board;Action & Adventure : 0.02256317689530686\n",
      "Video Players & Editors;Creativity : 0.01128158844765343\n",
      "Trivia;Education : 0.01128158844765343\n",
      "Travel & Local;Action & Adventure : 0.01128158844765343\n",
      "Tools;Education : 0.01128158844765343\n",
      "Strategy;Education : 0.01128158844765343\n",
      "Strategy;Creativity : 0.01128158844765343\n",
      "Strategy;Action & Adventure : 0.01128158844765343\n",
      "Simulation;Education : 0.01128158844765343\n",
      "Role Playing;Brain Games : 0.01128158844765343\n",
      "Racing;Pretend Play : 0.01128158844765343\n",
      "Puzzle;Education : 0.01128158844765343\n",
      "Parenting;Brain Games : 0.01128158844765343\n",
      "Music & Audio;Music & Video : 0.01128158844765343\n",
      "Lifestyle;Pretend Play : 0.01128158844765343\n",
      "Lifestyle;Education : 0.01128158844765343\n",
      "Health & Fitness;Education : 0.01128158844765343\n",
      "Health & Fitness;Action & Adventure : 0.01128158844765343\n",
      "Entertainment;Education : 0.01128158844765343\n",
      "Communication;Creativity : 0.01128158844765343\n",
      "Comics;Creativity : 0.01128158844765343\n",
      "Casual;Music & Video : 0.01128158844765343\n",
      "Card;Action & Adventure : 0.01128158844765343\n",
      "Books & Reference;Education : 0.01128158844765343\n",
      "Art & Design;Pretend Play : 0.01128158844765343\n",
      "Art & Design;Action & Adventure : 0.01128158844765343\n",
      "Arcade;Pretend Play : 0.01128158844765343\n",
      "Adventure;Education : 0.01128158844765343\n"
     ]
    }
   ],
   "source": [
    "display_table(free_play_apps, -4) # - Genres on Google Play Store"
   ]
  },
  {
   "cell_type": "code",
   "execution_count": 111,
   "id": "e1f14042-dad3-41e6-b9cd-1366939f1b60",
   "metadata": {
    "collapsed": true,
    "jupyter": {
     "outputs_hidden": true
    },
    "tags": []
   },
   "outputs": [
    {
     "name": "stdout",
     "output_type": "stream",
     "text": [
      "FAMILY : 18.907942238267147\n",
      "GAME : 9.724729241877256\n",
      "TOOLS : 8.461191335740072\n",
      "BUSINESS : 4.591606498194946\n",
      "LIFESTYLE : 3.9034296028880866\n",
      "PRODUCTIVITY : 3.892148014440433\n",
      "FINANCE : 3.7003610108303246\n",
      "MEDICAL : 3.531137184115524\n",
      "SPORTS : 3.395758122743682\n",
      "PERSONALIZATION : 3.3167870036101084\n",
      "COMMUNICATION : 3.2378158844765346\n",
      "HEALTH_AND_FITNESS : 3.0798736462093865\n",
      "PHOTOGRAPHY : 2.944494584837545\n",
      "NEWS_AND_MAGAZINES : 2.7978339350180503\n",
      "SOCIAL : 2.6624548736462095\n",
      "TRAVEL_AND_LOCAL : 2.33528880866426\n",
      "SHOPPING : 2.2450361010830324\n",
      "BOOKS_AND_REFERENCE : 2.1435018050541514\n",
      "DATING : 1.861462093862816\n",
      "VIDEO_PLAYERS : 1.7937725631768955\n",
      "MAPS_AND_NAVIGATION : 1.3989169675090252\n",
      "FOOD_AND_DRINK : 1.2409747292418771\n",
      "EDUCATION : 1.1620036101083033\n",
      "ENTERTAINMENT : 0.9589350180505415\n",
      "LIBRARIES_AND_DEMO : 0.9363718411552346\n",
      "AUTO_AND_VEHICLES : 0.9250902527075812\n",
      "HOUSE_AND_HOME : 0.8235559566787004\n",
      "WEATHER : 0.8009927797833934\n",
      "EVENTS : 0.7107400722021661\n",
      "PARENTING : 0.6543321299638989\n",
      "ART_AND_DESIGN : 0.6430505415162455\n",
      "COMICS : 0.6204873646209386\n",
      "BEAUTY : 0.5979241877256317\n"
     ]
    }
   ],
   "source": [
    "display_table(free_play_apps, 1) # - Category on Google Play Store"
   ]
  },
  {
   "cell_type": "markdown",
   "id": "36327305-f18e-447a-abfa-f513379a0c5b",
   "metadata": {},
   "source": [
    "For right now, we will move forward in only using the Google Play Store's `Category` column, simply because we see that the Genre column is too specific for our purpose, as there is no signifcant or meaningful data we can conclude that is significant to our problem. \n",
    "\n",
    "We can see that Game is the second most common type on the Play Store, and Family is actually the first. Creating an App Profile, we could merge the two together for a family friendly game that can be played with multiple people. It is still too early since we haven't aggregated installation data yet to know the most popular app by users. "
   ]
  },
  {
   "cell_type": "code",
   "execution_count": 133,
   "id": "e60314e5-2db9-469f-aaf5-6281986e6d2d",
   "metadata": {
    "collapsed": true,
    "jupyter": {
     "outputs_hidden": true
    },
    "tags": []
   },
   "outputs": [
    {
     "name": "stdout",
     "output_type": "stream",
     "text": [
      "Productivity : 19053.887096774193\n",
      "Weather : 47220.93548387097\n",
      "Shopping : 18746.677685950413\n",
      "Reference : 67447.9\n",
      "Finance : 13522.261904761905\n",
      "Music : 56482.02985074627\n",
      "Utilities : 14010.100917431193\n",
      "Travel : 20216.01785714286\n",
      "Social Networking : 53078.195804195806\n",
      "Sports : 20128.974683544304\n",
      "Health & Fitness : 19952.315789473683\n",
      "Games : 18924.68896765618\n",
      "Food & Drink : 20179.093023255813\n",
      "News : 15892.724137931034\n",
      "Book : 8498.333333333334\n",
      "Photo & Video : 27249.892215568863\n",
      "Entertainment : 10822.961077844311\n",
      "Business : 6367.8\n",
      "Lifestyle : 8978.308510638299\n",
      "Education : 6266.333333333333\n",
      "Navigation : 25972.05\n",
      "Medical : 459.75\n",
      "Catalogs : 1779.5555555555557\n"
     ]
    }
   ],
   "source": [
    "genres = freq_table(free_ios_apps, -5) # prime_genre\n",
    "\n",
    "for genre in genres:\n",
    "    total = 0\n",
    "    len_genre = 0 \n",
    "    \n",
    "    for app in free_ios_apps:\n",
    "        apps = app[-5]\n",
    "        if apps == genre:\n",
    "            ratings_tot = float(app[6])\n",
    "            total += ratings_tot\n",
    "            len_genre += 1 \n",
    "            \n",
    "            \n",
    "    average = (total / len_genre)\n",
    "    print(genre, ':', average)"
   ]
  },
  {
   "cell_type": "markdown",
   "id": "41606746-b77c-40ca-b136-f486481694b4",
   "metadata": {},
   "source": [
    "## Apple's Best App Profile: Music / Social Networking\n",
    "Due to being the most popular app in terms of downloads and having a close to 56k downloads on average in the category, this is a must create. Using what we do know about the space, the two largest players are Spotify and Apple Music, with one of these large players being a default in many phones, our close second would be social networking since the amount of downloads per app is more evenly spread. "
   ]
  },
  {
   "cell_type": "code",
   "execution_count": 180,
   "id": "7e3b2dd7-561c-4ed8-9bc9-dd193ec5005e",
   "metadata": {},
   "outputs": [
    {
     "name": "stdout",
     "output_type": "stream",
     "text": [
      "Pandora - Music & Radio  :  1126879\n",
      "Spotify Music  :  878563\n"
     ]
    }
   ],
   "source": [
    "music_apps = {}\n",
    "for row in free_ios_apps:\n",
    "    ratings_count = float(row[6])\n",
    "    name = row[2]\n",
    "    if row[-5] == 'Music' and ratings_count > 500000:\n",
    "        print(row[2], \" : \", row[6])\n",
    "    "
   ]
  },
  {
   "cell_type": "markdown",
   "id": "02fb1a22-b2b6-447e-b8b5-f2515d81cfcb",
   "metadata": {},
   "source": [
    "So with this one, we can see that the two most popular apps that have been downloaded in the Apple App Store is Pandora and Spotify. Let's take an analysis at the popular social networks.  "
   ]
  },
  {
   "cell_type": "code",
   "execution_count": 181,
   "id": "f78f165b-4298-456f-adc9-99dee2ffba26",
   "metadata": {},
   "outputs": [
    {
     "name": "stdout",
     "output_type": "stream",
     "text": [
      "Facebook  :  2974676\n",
      "Pinterest  :  1061624\n"
     ]
    }
   ],
   "source": [
    "social_apps = {}\n",
    "for row in free_ios_apps:\n",
    "    ratings_count = float(row[6])\n",
    "    name = row[2]\n",
    "    if row[-5] == 'Social Networking' and ratings_count > 500000:\n",
    "        print(row[2], \" : \", row[6])"
   ]
  },
  {
   "cell_type": "markdown",
   "id": "23508280-7a37-4501-a579-61c49ff18c58",
   "metadata": {},
   "source": [
    "Based on the data we have taken for App Profiles, we see that Facebook is pretty large and has a very social and feed approach, but Pinterest is interesting, maybe if we allowed a version similiar to Soundcloud where smaller artists can create a social network where they can post small clips of the chorus, catchy pop lyrics or a powerful bridge with a snip or loop in a clip of a music video, or a graphic to where people will press down to listen to a snippet and tap if they want to listen to whole song. "
   ]
  },
  {
   "cell_type": "markdown",
   "id": "2676ed4a-5088-42d2-9123-d490a96cb4dd",
   "metadata": {},
   "source": [
    "## Analyzing Google Play's Data"
   ]
  },
  {
   "cell_type": "code",
   "execution_count": 182,
   "id": "812b3945-6049-48c8-bbd6-710e78cebb45",
   "metadata": {},
   "outputs": [
    {
     "name": "stdout",
     "output_type": "stream",
     "text": [
      "['App', 'Category', 'Rating', 'Reviews', 'Size', 'Installs', 'Type', 'Price', 'Content Rating', 'Genres', 'Last Updated', 'Current Ver', 'Android Ver']\n"
     ]
    }
   ],
   "source": [
    "print(Gheader)"
   ]
  },
  {
   "cell_type": "code",
   "execution_count": 183,
   "id": "24c1549a-1568-4727-902a-498c8176c406",
   "metadata": {},
   "outputs": [
    {
     "name": "stdout",
     "output_type": "stream",
     "text": [
      "1,000,000+ : 15.726534296028879\n",
      "100,000+ : 11.552346570397113\n",
      "10,000,000+ : 10.548285198555957\n",
      "10,000+ : 10.198555956678701\n",
      "1,000+ : 8.393501805054152\n",
      "100+ : 6.915613718411552\n",
      "5,000,000+ : 6.825361010830325\n",
      "500,000+ : 5.561823104693141\n",
      "50,000+ : 4.7721119133574\n",
      "5,000+ : 4.512635379061372\n",
      "10+ : 3.5424187725631766\n",
      "500+ : 3.2490974729241873\n",
      "50,000,000+ : 2.3014440433213\n",
      "100,000,000+ : 2.1322202166064983\n",
      "50+ : 1.917870036101083\n",
      "5+ : 0.78971119133574\n",
      "1+ : 0.5076714801444043\n",
      "500,000,000+ : 0.2707581227436823\n",
      "1,000,000,000+ : 0.22563176895306858\n",
      "0+ : 0.04512635379061372\n",
      "0 : 0.01128158844765343\n"
     ]
    }
   ],
   "source": [
    "display_table(free_play_apps, 5)"
   ]
  },
  {
   "cell_type": "markdown",
   "id": "8a27ad06-a866-49ce-a250-6a75109f84a9",
   "metadata": {},
   "source": [
    "Let's try to turn this free frequency table into more precise and function values. "
   ]
  },
  {
   "cell_type": "code",
   "execution_count": 197,
   "id": "5e1c4405-e57b-4052-8e05-64bc640363fb",
   "metadata": {},
   "outputs": [
    {
     "name": "stdout",
     "output_type": "stream",
     "text": [
      "COMMUNICATION : 38456119.167247385\n",
      "SOCIAL : 23253652.127118643\n",
      "VIDEO_PLAYERS : 24727872.452830188\n"
     ]
    }
   ],
   "source": [
    "categories = freq_table(free_play_apps, 1) \n",
    "\n",
    "for category in categories:\n",
    "    totals = 0 \n",
    "    len_category = 0 \n",
    "    for app in free_play_apps:\n",
    "        category_app = app[1]\n",
    "        if category_app == category:\n",
    "            no_installs = app[5]\n",
    "            no_installs = no_installs.replace('+', '')\n",
    "            no_installs = no_installs.replace(',', '')\n",
    "            totals += float(no_installs)\n",
    "            len_category += 1\n",
    "    average = totals / len_category\n",
    "    if average > 20000000:\n",
    "        print(category, \":\", average)\n",
    "    "
   ]
  },
  {
   "cell_type": "markdown",
   "id": "0c697716-a43b-4acd-af12-6f5a3cd49da3",
   "metadata": {},
   "source": [
    "The three most popular app categories are communication, social and video players. Let's take this a step further and see the most popular apps in each category. "
   ]
  },
  {
   "cell_type": "code",
   "execution_count": 209,
   "id": "fe173391-35a2-4556-8ef7-c63b6ad36c02",
   "metadata": {},
   "outputs": [
    {
     "name": "stdout",
     "output_type": "stream",
     "text": [
      "WhatsApp Messenger  :  1,000,000,000+\n",
      "Messenger – Text and Video Chat for Free  :  1,000,000,000+\n",
      "Skype - free IM & video calls  :  1,000,000,000+\n",
      "Google Chrome: Fast & Secure  :  1,000,000,000+\n",
      "Gmail  :  1,000,000,000+\n",
      "Hangouts  :  1,000,000,000+\n"
     ]
    }
   ],
   "source": [
    "communication_apps = {}\n",
    "for row in free_play_apps:\n",
    "    installs = row[5]\n",
    "    name = row[0]\n",
    "    if row[1] == 'COMMUNICATION':\n",
    "        installs = installs.replace('+','')\n",
    "        installs = installs.replace(',','')\n",
    "        installs = float(installs)\n",
    "        if installs > 500000000:\n",
    "            print(row[0], \" : \", row[5])"
   ]
  },
  {
   "cell_type": "code",
   "execution_count": 210,
   "id": "0483a33e-2cd2-49bb-b125-6fbc6abbc990",
   "metadata": {},
   "outputs": [
    {
     "name": "stdout",
     "output_type": "stream",
     "text": [
      "Facebook  :  1,000,000,000+\n",
      "Google+  :  1,000,000,000+\n",
      "Instagram  :  1,000,000,000+\n"
     ]
    }
   ],
   "source": [
    "social_apps = {}\n",
    "for row in free_play_apps:\n",
    "    installs = row[5]\n",
    "    name = row[0]\n",
    "    if row[1] == 'SOCIAL':\n",
    "        installs = installs.replace('+','')\n",
    "        installs = installs.replace(',','')\n",
    "        installs = float(installs)\n",
    "        if installs > 500000000:\n",
    "            print(row[0], \" : \", row[5])"
   ]
  },
  {
   "cell_type": "code",
   "execution_count": 211,
   "id": "f1faa007-6a8d-4f6e-b59a-3b535fcfb576",
   "metadata": {},
   "outputs": [
    {
     "name": "stdout",
     "output_type": "stream",
     "text": [
      "YouTube  :  1,000,000,000+\n",
      "Google Play Movies & TV  :  1,000,000,000+\n"
     ]
    }
   ],
   "source": [
    "video_apps = {}\n",
    "for row in free_play_apps:\n",
    "    installs = row[5]\n",
    "    name = row[0]\n",
    "    if row[1] == 'VIDEO_PLAYERS':\n",
    "        installs = installs.replace('+','')\n",
    "        installs = installs.replace(',','')\n",
    "        installs = float(installs)\n",
    "        if installs > 500000000:\n",
    "            print(row[0], \" : \", row[5])"
   ]
  },
  {
   "cell_type": "markdown",
   "id": "7829fd7b-0294-46b0-8090-bd37e28bbae9",
   "metadata": {},
   "source": [
    "## Google's Best App Profile: Social\n",
    "\n",
    "Out of the top 3 categories, we know that Social Networking apps is the lowest, but at the same time, we see that Video and Communication are skewed with the amount of default apps that Google has in these lists. "
   ]
  },
  {
   "cell_type": "code",
   "execution_count": null,
   "id": "11aab549-edee-4585-a9b9-598016dce545",
   "metadata": {},
   "outputs": [],
   "source": []
  }
 ],
 "metadata": {
  "kernelspec": {
   "display_name": "Python 3 (ipykernel)",
   "language": "python",
   "name": "python3"
  },
  "language_info": {
   "codemirror_mode": {
    "name": "ipython",
    "version": 3
   },
   "file_extension": ".py",
   "mimetype": "text/x-python",
   "name": "python",
   "nbconvert_exporter": "python",
   "pygments_lexer": "ipython3",
   "version": "3.9.7"
  }
 },
 "nbformat": 4,
 "nbformat_minor": 5
}
